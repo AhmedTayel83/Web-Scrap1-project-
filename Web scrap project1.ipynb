{
 "cells": [
  {
   "cell_type": "code",
   "execution_count": 1,
   "id": "5079d0ef-6425-41ee-b8a1-5f0991ee9841",
   "metadata": {},
   "outputs": [],
   "source": [
    "from selenium import webdriver"
   ]
  },
  {
   "cell_type": "code",
   "execution_count": 2,
   "id": "d56b8bc4-9c05-4813-be7d-8690c8becd5c",
   "metadata": {},
   "outputs": [],
   "source": [
    "driver = webdriver.Chrome()"
   ]
  },
  {
   "cell_type": "code",
   "execution_count": 3,
   "id": "3050a20e-6ded-4b32-ac5f-e393fb53421d",
   "metadata": {},
   "outputs": [],
   "source": [
    "driver.get(\"https://www.amazon.eg/s?i=electronics&rh=n%3A21832883031%2Cp_123%3A110955&pf_rd_i=21832883031&pf_rd_m=A1ZVRGNO5AYLOV&pf_rd_p=43c67643-026f-4789-a4a7-4ca30f666289&pf_rd_r=ARN3DK398688HC2DAFFE&pf_rd_s=merchandised-search-3&ref=wirelessbrands_EG_2\")"
   ]
  },
  {
   "cell_type": "code",
   "execution_count": 6,
   "id": "edd922b8-a3a8-48f2-b844-0597406271c9",
   "metadata": {},
   "outputs": [],
   "source": [
    "products = driver.find_elements(\"xpath\",\"//div[@class='puis-card-container s-card-container s-overflow-hidden aok-relative puis-expand-height puis-include-content-margin puis puis-v21f6ugcmlcyrx263atko955w9h s-latency-cf-section puis-card-border']\")"
   ]
  },
  {
   "cell_type": "code",
   "execution_count": 7,
   "id": "2097fa2d-4906-46a4-aa97-f2b2621204da",
   "metadata": {},
   "outputs": [
    {
     "data": {
      "text/plain": [
       "25"
      ]
     },
     "execution_count": 7,
     "metadata": {},
     "output_type": "execute_result"
    }
   ],
   "source": [
    "len(products)"
   ]
  },
  {
   "cell_type": "code",
   "execution_count": 8,
   "id": "330b1f7c-fc31-40fa-9424-c5f2ee85757a",
   "metadata": {},
   "outputs": [
    {
     "name": "stdout",
     "output_type": "stream",
     "text": [
      "Best Seller\n",
      "+2 other colors/patterns\n",
      "Sponsored\n",
      "Samsung Galaxy Tab A9 4G LTE, 8.7 Inch Android Tablet, 4GB RAM, 64GB Storage, 8MP Rear Camera, Silver-1 Year Warranty/Local Version\n",
      "Options:\n",
      "2 sizes\n",
      "592\n",
      "EGP7,099\n",
      "00\n",
      "10% off NBE Visa Signature Credit Cards\n",
      "FREE delivery Fri, 19 Sep\n",
      "Or fastest delivery Tomorrow, 17 Sep\n",
      "Add to cart\n",
      "+6 other colors/patterns\n",
      "Sponsored\n",
      "EASSGU Galvanised Frame Mobile Phone Case for Samsung Galaxy A25 5G (6.5 Inches), Soft TPU Silicone Protective Case - Green\n",
      "Options:\n",
      "5 sizes\n",
      "48\n",
      "EGP130\n",
      "00\n",
      "10% off NBE Visa Signature Credit Cards\n",
      "FREE delivery Fri, 19 Sep on your first order\n",
      "Or fastest delivery Tomorrow, 17 Sep\n",
      "Only 1 left in stock - order soon.\n",
      "Add to cart\n",
      "Apple iPhone 13 (128 GB) - Midnight with Face ID | Tax Paid | 2 Years Official Warranty\n",
      "473\n",
      "See options\n",
      "No featured offers available\n",
      "EGP 31,950.00(1 new offer)\n",
      "Apple iPhone 15 Plus (128 GB) - Black with Face ID | Tax Paid | 2 Years Official Warranty\n",
      "48\n",
      "EGP53,999\n",
      "00\n",
      "List:\n",
      "EGP57,666.00\n",
      "10% off NBE Visa Signature Credit Cards\n",
      "FREE delivery Fri, 19 Sep\n",
      "Or fastest delivery Tomorrow, 17 Sep\n",
      "Only 4 left in stock - order soon.\n",
      "Add to cart\n",
      "Apple iPhone 16 Pro Max (256 GB) - Black Titanium\n",
      "119\n",
      "EGP75,950\n",
      "00\n",
      "10% off NBE Visa Signature Credit Cards\n",
      "FREE delivery Fri, 19 Sep\n",
      "Or fastest delivery Tomorrow, 17 Sep\n",
      "Only 1 left in stock - order soon.\n",
      "Add to cart\n",
      "Apple iPhone 16 Pro Max (256 GB) - Desert Titanium\n",
      "246\n",
      "See options\n",
      "No featured offers available\n",
      "EGP 74,950.00(2 new offers)\n",
      "Apple iPhone 16e (128 GB) - Black with Face ID | Tax Paid | 2 Years Official Warranty\n",
      "517\n",
      "EGP46,999\n",
      "00\n",
      "10% off NBE Visa Signature Credit Cards\n",
      "FREE delivery Fri, 19 Sep\n",
      "Or fastest delivery Tomorrow, 17 Sep\n",
      "Add to cart\n",
      "Apple iPhone 16 (128 GB) - White with Face ID, (2 years Official Warranty)\n",
      "191\n",
      "EGP48,950\n",
      "00\n",
      "10% off NBE Visa Signature Credit Cards\n",
      "FREE delivery Fri, 19 Sep\n",
      "Or fastest delivery Tomorrow, 17 Sep\n",
      "Only 1 left in stock - order soon.\n",
      "Add to cart\n",
      "Apple iPhone 16 (128 GB) - Ultramarine with Face ID | Tax Paid | 2 Years Official Warranty\n",
      "244\n",
      "EGP48,750\n",
      "00\n",
      "List:\n",
      "EGP58,500.00\n",
      "10% off NBE Visa Signature Credit Cards\n",
      "FREE delivery Fri, 19 Sep\n",
      "Or fastest delivery Tomorrow, 17 Sep\n",
      "Only 1 left in stock - order soon.\n",
      "Add to cart\n",
      "Apple iPhone 16 Pro (128 GB) - White Titanium with Face ID | Tax Paid | 2 Years Official Warranty\n",
      "65\n",
      "EGP64,500\n",
      "00\n",
      "List:\n",
      "EGP76,666.00\n",
      "10% off NBE Visa Signature Credit Cards\n",
      "FREE delivery Fri, 19 Sep\n",
      "Or fastest delivery Tomorrow, 17 Sep\n",
      "Only 1 left in stock - order soon.\n",
      "Add to cart\n",
      "Apple iPhone 16 (128 GB) - White\n",
      "15\n",
      "EGP47,777\n",
      "00\n",
      "Was:\n",
      "EGP51,950.00\n",
      "10% off NBE Visa Signature Credit Cards\n",
      "FREE delivery Fri, 19 Sep\n",
      "Or fastest delivery Tomorrow, 17 Sep\n",
      "Only 1 left in stock - order soon.\n",
      "Add to cart\n",
      "More Buying Choices\n",
      "EGP 46,000.00(2 new offers)\n",
      "Apple iPhone 16 Plus (128 GB) - Green with Face ID, (2 years Official Warranty)\n",
      "82\n",
      "EGP62,888\n",
      "00\n",
      "List:\n",
      "EGP65,999.00\n",
      "10% off NBE Visa Signature Credit Cards\n",
      "FREE delivery Fri, 19 Sep\n",
      "Or fastest delivery Tomorrow, 17 Sep\n",
      "Only 1 left in stock - order soon.\n",
      "Add to cart\n",
      "Apple iPad Pro 11-inch (M4): Ultra Retina XDR display, 256GB, Landscape 12MP Front Camera/12MP Back Camera, LiDAR scanner, Wi-Fi 6E + 5G Cellular with eSIM, All-Day Battery Life - Space Black\n",
      "Options:\n",
      "5 sizes\n",
      "275\n",
      "EGP64,100\n",
      "00\n",
      "Was:\n",
      "EGP66,950.00\n",
      "10% off NBE Visa Signature Credit Cards\n",
      "FREE delivery Fri, 19 Sep\n",
      "Or fastest delivery Tomorrow, 17 Sep\n",
      "Add to cart\n",
      "More Buying Choices\n",
      "EGP 64,090.00(2 new offers)\n",
      "Apple iPhone 16 Pro (128 GB) - Black Titanium with Face ID | Tax Paid | 2 Years Official Warranty\n",
      "305\n",
      "EGP77,999\n",
      "00\n",
      "10% off NBE Visa Signature Credit Cards\n",
      "FREE delivery Fri, 19 Sep\n",
      "Or fastest delivery Tomorrow, 17 Sep\n",
      "Add to cart\n",
      "Apple iPhone 16 (128 GB) - Black with Face ID, (2 years Official Warranty)\n",
      "266\n",
      "See options\n",
      "No featured offers available\n",
      "EGP 48,500.00(1 new offer)\n",
      "Apple iPhone 16 Pro (128 GB) - Natural Titanium\n",
      "23\n",
      "EGP64,550\n",
      "00\n",
      "10% off NBE Visa Signature Credit Cards\n",
      "FREE delivery Fri, 19 Sep\n",
      "Or fastest delivery Tomorrow, 17 Sep\n",
      "Only 1 left in stock - order soon.\n",
      "Add to cart\n",
      "Apple iPhone 16 Pro Max (256 GB) - Natural Titanium\n",
      "73\n",
      "See options\n",
      "No featured offers available\n",
      "EGP 75,500.00(1 new offer)\n",
      "Apple iPhone 16 (128 GB) - Teal\n",
      "14\n",
      "EGP47,549\n",
      "00\n",
      "Was:\n",
      "EGP51,550.00\n",
      "10% off NBE Visa Signature Credit Cards\n",
      "FREE delivery Fri, 19 Sep\n",
      "Or fastest delivery Tomorrow, 17 Sep\n",
      "Only 1 left in stock - order soon.\n",
      "Add to cart\n",
      "Apple iPhone 16 Pro Max (256 GB) - White Titanium\n",
      "58\n",
      "EGP75,750\n",
      "00\n",
      "10% off NBE Visa Signature Credit Cards\n",
      "FREE delivery Fri, 19 Sep\n",
      "Or fastest delivery Tomorrow, 17 Sep\n",
      "Only 1 left in stock - order soon.\n",
      "Add to cart\n",
      "Apple iPhone 16 Pro (128 GB) - Desert Titanium with Face ID | Tax Paid | 2 Years Official Warranty\n",
      "203\n",
      "EGP64,550\n",
      "00\n",
      "List:\n",
      "EGP77,999.00\n",
      "10% off NBE Visa Signature Credit Cards\n",
      "FREE delivery Fri, 19 Sep\n",
      "Or fastest delivery Tomorrow, 17 Sep\n",
      "Only 1 left in stock - order soon.\n",
      "Add to cart\n",
      "Apple iPhone 16 Pro Max (256 GB) - Natural Titanium\n",
      "143\n",
      "See options\n",
      "No featured offers available\n",
      "EGP 75,450.00(1 new offer)\n",
      "Apple iPhone 16 Plus (128 GB) - Blue with Face ID | Tax Paid | 2 Years Official Warranty\n",
      "81\n",
      "EGP67,700\n",
      "00\n",
      "10% off NBE Visa Signature Credit Cards\n",
      "FREE delivery\n",
      "Temporarily out of stock.\n",
      "Add to cart\n",
      "Apple iPad Pro 13-Inch (M4): Built for Apple Intelligence, Ultra Retina XDR Display, 256GB, 12MP Front/Back Camera, LiDAR Scanner, Wi-Fi 6E + 5G Cellular, All-Day Battery Life — Space Black\n",
      "75\n",
      "EGP66,794\n",
      "00\n",
      "10% off NBE Visa Signature Credit Cards\n",
      "FREE delivery Fri, 19 Sep\n",
      "Or fastest delivery Tomorrow, 17 Sep\n",
      "Only 1 left in stock - order soon.\n",
      "Add to cart\n",
      "Sponsored\n",
      "Google Pixel 7 Single SIM, 5G, 8GB Ram, 256GB, Obsidian, US Version, Bluetooth, Wi-Fi\n",
      "361\n",
      "EGP25,550\n",
      "00\n",
      "10% off NBE Visa Signature Credit Cards\n",
      "FREE delivery Fri, 19 Sep\n",
      "Or fastest delivery Tomorrow, 17 Sep\n",
      "Only 4 left in stock - order soon.\n",
      "Add to cart\n",
      "+1 other color/pattern\n",
      "Sponsored\n",
      "SAMSUNG Galaxy Z Fold6, AI Phone, 12GB RAM, 512GB Storage, Silver Shadow, Android Smartphone, 50MP Camera, Big Screen, Multi-tasking, S Pen, Long Battery Life, UAE Version\n",
      "13\n",
      "EGP84,950\n",
      "00\n",
      "Was:\n",
      "EGP87,950.00\n",
      "10% off NBE Visa Signature Credit Cards\n",
      "FREE delivery Fri, 19 Sep\n",
      "Or fastest delivery Tomorrow, 17 Sep\n",
      "Only 2 left in stock - order soon.\n",
      "Add to cart\n"
     ]
    }
   ],
   "source": [
    "for product in products :\n",
    "    print(product.text)"
   ]
  },
  {
   "cell_type": "code",
   "execution_count": 9,
   "id": "25089e33-fdf0-44c4-8824-4c00a894662e",
   "metadata": {},
   "outputs": [],
   "source": [
    "products_prices = driver.find_elements(\"xpath\",\"//span[@class='a-price-whole']\")"
   ]
  },
  {
   "cell_type": "code",
   "execution_count": 10,
   "id": "d1cfbe76-67dc-40f6-a12a-3d37b0286cb0",
   "metadata": {},
   "outputs": [
    {
     "name": "stdout",
     "output_type": "stream",
     "text": [
      "7,099\n",
      "130\n",
      "53,999\n",
      "75,950\n",
      "46,999\n",
      "48,950\n",
      "48,750\n",
      "64,500\n",
      "47,777\n",
      "62,888\n",
      "64,100\n",
      "77,999\n",
      "64,550\n",
      "47,549\n",
      "75,750\n",
      "64,550\n",
      "67,700\n",
      "66,794\n",
      "25,550\n",
      "84,950\n"
     ]
    }
   ],
   "source": [
    "for price in products_prices:\n",
    "    print(price.text)"
   ]
  },
  {
   "cell_type": "code",
   "execution_count": 11,
   "id": "e69d8ed5-ea42-4d96-9761-4ccf36dc98cc",
   "metadata": {},
   "outputs": [],
   "source": [
    "products_names = driver.find_elements(\"xpath\",\"//h2[@class='a-size-base-plus a-spacing-none a-color-base a-text-normal']/span\")"
   ]
  },
  {
   "cell_type": "code",
   "execution_count": 12,
   "id": "f9df284b-a6f7-47e4-b17c-7e3af9ab6f52",
   "metadata": {},
   "outputs": [
    {
     "name": "stdout",
     "output_type": "stream",
     "text": [
      "Samsung Galaxy Tab A9 4G LTE, 8.7 Inch Android Tablet, 4GB RAM, 64GB Storage, 8MP Rear Camera, Silver-1 Year Warranty/Local Version\n",
      "EASSGU Galvanised Frame Mobile Phone Case for Samsung Galaxy A25 5G (6.5 Inches), Soft TPU Silicone Protective Case - Green\n",
      "Apple iPhone 13 (128 GB) - Midnight with Face ID | Tax Paid | 2 Years Official Warranty\n",
      "Apple iPhone 15 Plus (128 GB) - Black with Face ID | Tax Paid | 2 Years Official Warranty\n",
      "Apple iPhone 16 Pro Max (256 GB) - Black Titanium\n",
      "Apple iPhone 16 Pro Max (256 GB) - Desert Titanium\n",
      "Apple iPhone 16e (128 GB) - Black with Face ID | Tax Paid | 2 Years Official Warranty\n",
      "Apple iPhone 16 (128 GB) - White with Face ID, (2 years Official Warranty)\n",
      "Apple iPhone 16 (128 GB) - Ultramarine with Face ID | Tax Paid | 2 Years Official Warranty\n",
      "Apple iPhone 16 Pro (128 GB) - White Titanium with Face ID | Tax Paid | 2 Years Official Warranty\n",
      "Apple iPhone 16 (128 GB) - White\n",
      "Apple iPhone 16 Plus (128 GB) - Green with Face ID, (2 years Official Warranty)\n",
      "Apple iPad Pro 11-inch (M4): Ultra Retina XDR display, 256GB, Landscape 12MP Front Camera/12MP Back Camera, LiDAR scanner, Wi-Fi 6E + 5G Cellular with eSIM, All-Day Battery Life - Space Black\n",
      "Apple iPhone 16 Pro (128 GB) - Black Titanium with Face ID | Tax Paid | 2 Years Official Warranty\n",
      "Apple iPhone 16 (128 GB) - Black with Face ID, (2 years Official Warranty)\n",
      "Apple iPhone 16 Pro (128 GB) - Natural Titanium\n",
      "Apple iPhone 16 Pro Max (256 GB) - Natural Titanium\n",
      "Apple iPhone 16 (128 GB) - Teal\n",
      "Apple iPhone 16 Pro Max (256 GB) - White Titanium\n",
      "Apple iPhone 16 Pro (128 GB) - Desert Titanium with Face ID | Tax Paid | 2 Years Official Warranty\n",
      "Apple iPhone 16 Pro Max (256 GB) - Natural Titanium\n",
      "Apple iPhone 16 Plus (128 GB) - Blue with Face ID | Tax Paid | 2 Years Official Warranty\n",
      "Apple iPad Pro 13-Inch (M4): Built for Apple Intelligence, Ultra Retina XDR Display, 256GB, 12MP Front/Back Camera, LiDAR Scanner, Wi-Fi 6E + 5G Cellular, All-Day Battery Life — Space Black\n",
      "Google Pixel 7 Single SIM, 5G, 8GB Ram, 256GB, Obsidian, US Version, Bluetooth, Wi-Fi\n",
      "SAMSUNG Galaxy Z Fold6, AI Phone, 12GB RAM, 512GB Storage, Silver Shadow, Android Smartphone, 50MP Camera, Big Screen, Multi-tasking, S Pen, Long Battery Life, UAE Version\n"
     ]
    }
   ],
   "source": [
    "for element in products_names:\n",
    "    print(element.text)"
   ]
  },
  {
   "cell_type": "code",
   "execution_count": 13,
   "id": "5ded91b1-d023-4d94-8b46-9e4eb6048319",
   "metadata": {},
   "outputs": [
    {
     "name": "stdout",
     "output_type": "stream",
     "text": [
      "['Samsung Galaxy Tab A9 4G LTE, 8.7 Inch Android Tablet, 4GB RAM, 64GB Storage, 8MP Rear Camera, Silver-1 Year Warranty/Local Version', '7,099']\n",
      "['EASSGU Galvanised Frame Mobile Phone Case for Samsung Galaxy A25 5G (6.5 Inches), Soft TPU Silicone Protective Case - Green', '130']\n",
      "['Apple iPhone 15 Plus (128 GB) - Black with Face ID | Tax Paid | 2 Years Official Warranty', '53,999']\n",
      "['Apple iPhone 16 Pro Max (256 GB) - Black Titanium', '75,950']\n",
      "['Apple iPhone 16e (128 GB) - Black with Face ID | Tax Paid | 2 Years Official Warranty', '46,999']\n"
     ]
    }
   ],
   "source": [
    "data = []\n",
    "\n",
    "for product in products:\n",
    "    try:\n",
    "        name = product.find_element(\"xpath\",\".//h2[@class='a-size-base-plus a-spacing-none a-color-base a-text-normal']/span\").text.strip()\n",
    "    except:\n",
    "        continue\n",
    "\n",
    "    try:\n",
    "        price = product.find_element(\"xpath\",\".//span[@class='a-price-whole']\").text.strip()\n",
    "    except:\n",
    "        continue\n",
    "\n",
    "    data.append([name,price])\n",
    "\n",
    "for row in data[:5]:\n",
    "    print(row)"
   ]
  },
  {
   "cell_type": "code",
   "execution_count": 14,
   "id": "4fbff52f-61f3-4dd8-b407-79fbee9e1d0b",
   "metadata": {},
   "outputs": [
    {
     "name": "stdout",
     "output_type": "stream",
     "text": [
      "                                        Product Name   Price\n",
      "0  Samsung Galaxy Tab A9 4G LTE, 8.7 Inch Android...   7,099\n",
      "1  EASSGU Galvanised Frame Mobile Phone Case for ...     130\n",
      "2  Apple iPhone 15 Plus (128 GB) - Black with Fac...  53,999\n",
      "3  Apple iPhone 16 Pro Max (256 GB) - Black Titanium  75,950\n",
      "4  Apple iPhone 16e (128 GB) - Black with Face ID...  46,999\n"
     ]
    }
   ],
   "source": [
    "import pandas as pd\n",
    "\n",
    "df = pd.DataFrame(data,columns=[\"Product Name\", \"Price\"])\n",
    "print(df.head())"
   ]
  },
  {
   "cell_type": "code",
   "execution_count": 15,
   "id": "ab21b0c7-e16a-49fb-87f1-c6303e33a853",
   "metadata": {},
   "outputs": [],
   "source": [
    "df.to_csv(\"amazon_products.csv\", index = False )"
   ]
  },
  {
   "cell_type": "code",
   "execution_count": 16,
   "id": "73c91977-c5d0-487c-a90d-a9747cfbf0e9",
   "metadata": {},
   "outputs": [
    {
     "name": "stdout",
     "output_type": "stream",
     "text": [
      "                                         Product Name   Price\n",
      "0   Samsung Galaxy Tab A9 4G LTE, 8.7 Inch Android...   7,099\n",
      "1   EASSGU Galvanised Frame Mobile Phone Case for ...     130\n",
      "2   Apple iPhone 15 Plus (128 GB) - Black with Fac...  53,999\n",
      "3   Apple iPhone 16 Pro Max (256 GB) - Black Titanium  75,950\n",
      "4   Apple iPhone 16e (128 GB) - Black with Face ID...  46,999\n",
      "5   Apple iPhone 16 (128 GB) - White with Face ID,...  48,950\n",
      "6   Apple iPhone 16 (128 GB) - Ultramarine with Fa...  48,750\n",
      "7   Apple iPhone 16 Pro (128 GB) - White Titanium ...  64,500\n",
      "8                    Apple iPhone 16 (128 GB) - White  47,777\n",
      "9   Apple iPhone 16 Plus (128 GB) - Green with Fac...  62,888\n",
      "10  Apple iPad Pro 11-inch (M4): Ultra Retina XDR ...  64,100\n",
      "11  Apple iPhone 16 Pro (128 GB) - Black Titanium ...  77,999\n",
      "12    Apple iPhone 16 Pro (128 GB) - Natural Titanium  64,550\n",
      "13                    Apple iPhone 16 (128 GB) - Teal  47,549\n",
      "14  Apple iPhone 16 Pro Max (256 GB) - White Titanium  75,750\n",
      "15  Apple iPhone 16 Pro (128 GB) - Desert Titanium...  64,550\n",
      "16  Apple iPhone 16 Plus (128 GB) - Blue with Face...  67,700\n",
      "17  Apple iPad Pro 13-Inch (M4): Built for Apple I...  66,794\n",
      "18  Google Pixel 7 Single SIM, 5G, 8GB Ram, 256GB,...  25,550\n",
      "19  SAMSUNG Galaxy Z Fold6, AI Phone, 12GB RAM, 51...  84,950\n"
     ]
    }
   ],
   "source": [
    "print(df)"
   ]
  },
  {
   "cell_type": "code",
   "execution_count": null,
   "id": "a6710de8-c5fe-42fd-96ed-8aa19805ec8b",
   "metadata": {},
   "outputs": [],
   "source": []
  }
 ],
 "metadata": {
  "kernelspec": {
   "display_name": "Python 3 (ipykernel)",
   "language": "python",
   "name": "python3"
  },
  "language_info": {
   "codemirror_mode": {
    "name": "ipython",
    "version": 3
   },
   "file_extension": ".py",
   "mimetype": "text/x-python",
   "name": "python",
   "nbconvert_exporter": "python",
   "pygments_lexer": "ipython3",
   "version": "3.12.4"
  }
 },
 "nbformat": 4,
 "nbformat_minor": 5
}
